{
 "cells": [
  {
   "cell_type": "markdown",
   "metadata": {},
   "source": [
    "##Predicting User Engagement in Corporate Collaboration Network\n",
    "\n",
    "by Mike Yea\n",
    "DAT7"
   ]
  },
  {
   "cell_type": "markdown",
   "metadata": {},
   "source": [
    "##1. Background\n",
    "\n",
    "* In 2012, an opt-in, web-based (and mobile-enabled) collaboration network was launched at my organization, a 90,000-employee federal agency\n",
    "* While initial roll-out and user adoption were impressive, the growth rate of the network has slowed\n",
    "* About 80% of public messages/posts go unanswered\n",
    "* Interested in informing future user engagement campaign"
   ]
  },
  {
   "cell_type": "markdown",
   "metadata": {},
   "source": [
    "##2. Problem Statement\n",
    "\n",
    "**Can I predict a “lift” in user engagement from message attributes (e.g., message text, attachment, link, @mention)?**    \n",
    "\n",
    "My initial hypotheses are:\n",
    "1. Message content and metadata have intrinsic value in predicting user engagement\n",
    "2. Message poster's role within the organization and activity level within the network are predictors of user engagement"
   ]
  },
  {
   "cell_type": "markdown",
   "metadata": {},
   "source": [
    "##3. Data\n",
    "\n",
    "###3.1 Data Pre-Processing\n",
    "* Worked with de-normalized data (data was **not** normalized across message hierarchy) \n",
    "* Included top-level messages (ignored subsequent messages in the same thread)\n",
    "* Removed private messages or messages posted in private boards\n",
    "\n",
    "###3.2 Response Variable\n",
    "* Number of replies to top-level messages\n",
    "* Encoded:\n",
    "  * no reply (80% of data): 0 \n",
    "  * 1 or more replies (20% of data): 1\n",
    "* Randomly removed rows from the set of no-reply data by running the following code"
   ]
  },
  {
   "cell_type": "code",
   "execution_count": 1,
   "metadata": {
    "collapsed": false
   },
   "outputs": [
    {
     "ename": "NameError",
     "evalue": "name 'y_data' is not defined",
     "output_type": "error",
     "traceback": [
      "\u001b[1;31m---------------------------------------------------------------------------\u001b[0m",
      "\u001b[1;31mNameError\u001b[0m                                 Traceback (most recent call last)",
      "\u001b[1;32m<ipython-input-1-d3ad1afb26d0>\u001b[0m in \u001b[0;36m<module>\u001b[1;34m()\u001b[0m\n\u001b[0;32m      1\u001b[0m \u001b[1;32mimport\u001b[0m \u001b[0mnumpy\u001b[0m \u001b[1;32mas\u001b[0m \u001b[0mnp\u001b[0m\u001b[1;33m\u001b[0m\u001b[0m\n\u001b[1;32m----> 2\u001b[1;33m \u001b[0mrows\u001b[0m \u001b[1;33m=\u001b[0m \u001b[0mnp\u001b[0m\u001b[1;33m.\u001b[0m\u001b[0mrandom\u001b[0m\u001b[1;33m.\u001b[0m\u001b[0mchoice\u001b[0m\u001b[1;33m(\u001b[0m\u001b[0my_data\u001b[0m\u001b[1;33m[\u001b[0m\u001b[0my_data\u001b[0m\u001b[1;33m.\u001b[0m\u001b[0mnum_replies\u001b[0m \u001b[1;33m==\u001b[0m \u001b[1;36m0\u001b[0m\u001b[1;33m]\u001b[0m\u001b[1;33m.\u001b[0m\u001b[0mindex\u001b[0m\u001b[1;33m.\u001b[0m\u001b[0mvalues\u001b[0m\u001b[1;33m,\u001b[0m \u001b[1;36m5774\u001b[0m\u001b[1;33m,\u001b[0m \u001b[0mreplace\u001b[0m\u001b[1;33m=\u001b[0m\u001b[0mFalse\u001b[0m\u001b[1;33m)\u001b[0m\u001b[1;33m\u001b[0m\u001b[0m\n\u001b[0m\u001b[0;32m      3\u001b[0m \u001b[0my_data\u001b[0m\u001b[1;33m.\u001b[0m\u001b[0mdrop\u001b[0m\u001b[1;33m(\u001b[0m\u001b[0my_data\u001b[0m\u001b[1;33m.\u001b[0m\u001b[0mindex\u001b[0m\u001b[1;33m[\u001b[0m\u001b[0mrows\u001b[0m\u001b[1;33m]\u001b[0m\u001b[1;33m,\u001b[0m \u001b[0min_place\u001b[0m\u001b[1;33m=\u001b[0m\u001b[0mTrue\u001b[0m\u001b[1;33m)\u001b[0m\u001b[1;33m\u001b[0m\u001b[0m\n",
      "\u001b[1;31mNameError\u001b[0m: name 'y_data' is not defined"
     ]
    }
   ],
   "source": [
    "import numpy as np\n",
    "rows = np.random.choice(y_data[y_data.num_replies == 0].index.values, 5774, replace=False)\n",
    "y_data.drop(y_data.index[rows], in_place=True)"
   ]
  },
  {
   "cell_type": "markdown",
   "metadata": {},
   "source": [
    "<img src=\"hist_num.png\"> "
   ]
  },
  {
   "cell_type": "markdown",
   "metadata": {},
   "source": [
    "##4. Feature Analysis and Selection\n",
    "\n",
    "###4.1 Feature Engineering\n",
    "\n",
    "* The body of message represents by far the most voluminous component of data\n",
    "* Hand engineered 9 more features:\n",
    "  1. message posted in a group (a proxy for collaborating in self-selected group) (binary)\n",
    "  2. ~~attachments (binary)~~\n",
    "  3. length of message (continuous)\n",
    "  4. hyperlinks included (binary)\n",
    "  5. ~~message tone/sentiment (index between -1 and 1)~~\n",
    "  6. message posed as a question (binary)\n",
    "  7. number of **key words** observed over time (\"experience\", \"opportunity\", and \"interest\") that appear to draw user engagement (continuous)\n",
    "  8. message poster's tenure in the collaboration network when a message was posted (number of days; continuous)\n",
    "  9. **@mentions** one or more users (binary)"
   ]
  },
  {
   "cell_type": "markdown",
   "metadata": {},
   "source": [
    "## 5. Model Evaluation\n",
    "\n",
    "The **null accuracy is .511**.  \n",
    "\n",
    "Two single number performance metrics, class prediction accuracy and area-under-the-curve, are primary evaluation metrics: "
   ]
  },
  {
   "cell_type": "markdown",
   "metadata": {},
   "source": [
    "<img src=\"model_performance_1.png\"> \n",
    "<img src=\"model_performance_2.png\"> "
   ]
  },
  {
   "cell_type": "markdown",
   "metadata": {},
   "source": [
    "## 6. Conclusions \n",
    "\n",
    "* Do not reject the hypotheses (message and user attributes) \n",
    "* The model with the **hand-engineered features** is chosen for further exploration due to its relatively high interpretability\n",
    "  * Once selecting a model for further analysis, the model was evaluated by feeding all 256 combinations of features\n",
    "  * The model with the following features--'has_attach', 'has_qm', 'has_key_word', 'author_age', and 'has_at_mention'--achieved .628 class prediction accuracy and .654 AUC, rather **insignificant** improvement over the model using all features (.611 and .647, respectively)\n",
    "* Training models on **class-balanced data** did **more** to improve performance than did any other method or combination of methods (e.g., more features, tuning)\n",
    "* Future work:\n",
    "  * Interplay between subsequent messages and replies\n",
    "  * Adding \"lurker\" activity to response\n",
    "  * Message author's reputation (e.g., \"likes\", followers)"
   ]
  }
 ],
 "metadata": {
  "kernelspec": {
   "display_name": "Python 2",
   "language": "python",
   "name": "python2"
  },
  "language_info": {
   "codemirror_mode": {
    "name": "ipython",
    "version": 2
   },
   "file_extension": ".py",
   "mimetype": "text/x-python",
   "name": "python",
   "nbconvert_exporter": "python",
   "pygments_lexer": "ipython2",
   "version": "2.7.9"
  }
 },
 "nbformat": 4,
 "nbformat_minor": 0
}
